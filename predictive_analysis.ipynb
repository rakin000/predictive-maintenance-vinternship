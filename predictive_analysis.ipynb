{
  "nbformat": 4,
  "nbformat_minor": 0,
  "metadata": {
    "colab": {
      "provenance": [],
      "authorship_tag": "ABX9TyPqZMYUWp9hwNlSnMiiIRDY",
      "include_colab_link": true
    },
    "kernelspec": {
      "name": "python3",
      "display_name": "Python 3"
    },
    "language_info": {
      "name": "python"
    }
  },
  "cells": [
    {
      "cell_type": "markdown",
      "metadata": {
        "id": "view-in-github",
        "colab_type": "text"
      },
      "source": [
        "<a href=\"https://colab.research.google.com/github/rakin000/predictive-maintenance-vinternship/blob/main/predictive_analysis.ipynb\" target=\"_parent\"><img src=\"https://colab.research.google.com/assets/colab-badge.svg\" alt=\"Open In Colab\"/></a>"
      ]
    },
    {
      "cell_type": "code",
      "source": [
        "!cd predictive-maintenance-vinternship"
      ],
      "metadata": {
        "id": "vwV8krLFMT9E"
      },
      "execution_count": 53,
      "outputs": []
    },
    {
      "cell_type": "code",
      "source": [
        "!git clone https://github.com/rakin000/predictive-maintenance-vinternship"
      ],
      "metadata": {
        "colab": {
          "base_uri": "https://localhost:8080/"
        },
        "id": "tANrV4sxMCCa",
        "outputId": "288d3c22-6416-4360-f2e7-5b3cdc0441d5"
      },
      "execution_count": 54,
      "outputs": [
        {
          "output_type": "stream",
          "name": "stdout",
          "text": [
            "fatal: destination path 'predictive-maintenance-vinternship' already exists and is not an empty directory.\n"
          ]
        }
      ]
    },
    {
      "cell_type": "code",
      "execution_count": 55,
      "metadata": {
        "id": "T6kBVDK9wlgq"
      },
      "outputs": [],
      "source": [
        "import torch,random,sklearn\n",
        "import pandas as pd \n",
        "from sklearn.preprocessing import StandardScaler\n",
        "import torch.nn.functional as F\n",
        "import matplotlib.pyplot as plt # for making figures\n",
        "%matplotlib inline\n",
        "from sklearn.utils import resample\n",
        "from sklearn.metrics import confusion_matrix"
      ]
    },
    {
      "cell_type": "code",
      "source": [
        "fd = pd.read_excel(\"Group 3.xlsx\")\n",
        "fd[:10]\n",
        "fd.to_csv(\"dataset.csv\")\n",
        "\n",
        "df = fd.drop(columns =['wpump', 'radiator', 'exvalve', 'acmotor', 'id'])\n",
        "\n",
        "print(fd.columns)\n",
        "print(df.describe().transpose())\n",
        "print(df[:10])\n",
        "print(df.corr()['bearings'].abs().sort_values())\n",
        "print(f\"True = {sum([x==1 for x in df['bearings']])}, False ={sum([x==0 for x in df['bearings']])}\")"
      ],
      "metadata": {
        "id": "XVPhOs-9wm6S",
        "colab": {
          "base_uri": "https://localhost:8080/"
        },
        "outputId": "7abe615b-2212-44b6-fbb7-79d34bf9df3e"
      },
      "execution_count": 56,
      "outputs": [
        {
          "output_type": "stream",
          "name": "stdout",
          "text": [
            "Index(['id', 'rpm', 'motor_power', 'torque', 'outlet_pressure_bar', 'air_flow',\n",
            "       'noise_db', 'outlet_temp', 'wpump_outlet_press', 'water_inlet_temp',\n",
            "       'water_outlet_temp', 'wpump_power', 'water_flow', 'oilpump_power',\n",
            "       'oil_tank_temp', 'gaccx', 'gaccy', 'gaccz', 'haccx', 'haccy', 'haccz',\n",
            "       'bearings', 'wpump', 'radiator', 'exvalve', 'acmotor'],\n",
            "      dtype='object')\n",
            "                      count         mean          std          min  \\\n",
            "rpm                  1000.0  1499.516000   707.681915   480.000000   \n",
            "motor_power          1000.0  6984.877371  4269.277571  1402.424603   \n",
            "torque               1000.0    49.186120    18.706750    13.222197   \n",
            "outlet_pressure_bar  1000.0     4.054049     1.862761     1.000000   \n",
            "air_flow             1000.0   754.673930   442.743491    95.098952   \n",
            "noise_db             1000.0    53.412121     8.055363    39.879017   \n",
            "outlet_temp          1000.0   118.855110    19.120181    76.902822   \n",
            "wpump_outlet_press   1000.0     2.799610     0.455274     1.834533   \n",
            "water_inlet_temp     1000.0    83.021711    18.644992    43.166392   \n",
            "water_outlet_temp    1000.0    96.636589    20.557276    47.259238   \n",
            "wpump_power          1000.0   222.185445     3.774537   213.525207   \n",
            "water_flow           1000.0    53.708176     6.587259    38.570791   \n",
            "oilpump_power        1000.0   300.484123     0.408703   299.507859   \n",
            "oil_tank_temp        1000.0    46.237663     0.196139    45.806178   \n",
            "gaccx                1000.0     0.601789     0.058719     0.540045   \n",
            "gaccy                1000.0     0.349667     0.040667     0.274650   \n",
            "gaccz                1000.0     3.923073     1.610130     1.730301   \n",
            "haccx                1000.0     1.101253     0.058546     1.039910   \n",
            "haccy                1000.0     1.350042     0.040871     1.270696   \n",
            "haccz                1000.0     3.495037     0.817667     2.329267   \n",
            "bearings             1000.0     0.200000     0.400200     0.000000   \n",
            "\n",
            "                             25%          50%          75%           max  \n",
            "rpm                   988.750000  1500.000000  2010.000000   2520.000000  \n",
            "motor_power          3559.437042  5906.662534  9636.002782  19454.559080  \n",
            "torque                 33.749857    48.890905    63.672921     93.540405  \n",
            "outlet_pressure_bar     2.443750     4.038000     5.600250      8.664000  \n",
            "air_flow              305.388152   608.626411  1193.266273   1539.911634  \n",
            "noise_db               46.490976    52.708480    60.158248     74.401986  \n",
            "outlet_temp           104.731080   118.275842   132.850790    172.711382  \n",
            "wpump_outlet_press      2.448208     2.780492     3.092101      4.295136  \n",
            "water_inlet_temp       68.914714    82.101660    95.792346    137.543531  \n",
            "water_outlet_temp      81.365268    96.084809   110.989064    161.123805  \n",
            "wpump_power           219.471768   221.889622   224.721620    235.342910  \n",
            "water_flow             50.459245    58.112667    58.552897     59.174992  \n",
            "oilpump_power         300.187873   300.470013   300.774788    301.435483  \n",
            "oil_tank_temp          46.090060    46.236213    46.378237     46.755690  \n",
            "gaccx                   0.558092     0.576814     0.615021      0.726604  \n",
            "gaccy                   0.316543     0.349343     0.375261      0.459811  \n",
            "gaccz                   2.576739     3.610639     5.081960      9.209166  \n",
            "haccx                   1.057717     1.075392     1.113696      1.227134  \n",
            "haccy                   1.318785     1.348189     1.375232      1.461809  \n",
            "haccz                   2.802622     3.339698     4.071874      6.107852  \n",
            "bearings                0.000000     0.000000     0.000000      1.000000  \n",
            "   rpm  motor_power     torque  outlet_pressure_bar    air_flow   noise_db  \\\n",
            "0  499  1405.842858  27.511708                1.000  308.289879  40.840517   \n",
            "1  513  1457.370092  31.030115                1.081  307.833736  40.484226   \n",
            "2  495  1582.249959  33.484653                1.369  307.377593  40.918572   \n",
            "3  480  1712.466820  36.394475                1.691  306.975248  40.450953   \n",
            "4  498  1766.035170  38.249154                1.731  306.832132  41.233739   \n",
            "5  487  1843.928137  40.189097                1.936  306.532020  41.109063   \n",
            "6  503  1885.584836  36.956170                1.949  306.427377  41.515983   \n",
            "7  489  1877.196074  38.219231                1.985  306.004358  41.271330   \n",
            "8  481  1957.281581  41.060244                2.189  305.627532  40.490259   \n",
            "9  481  1960.768488  39.576572                2.192  305.354075  41.726195   \n",
            "\n",
            "   outlet_temp  wpump_outlet_press  water_inlet_temp  water_outlet_temp  ...  \\\n",
            "0    78.554715            2.960632         43.166392          47.259238  ...   \n",
            "1    76.902822            2.536711         47.342143          55.025653  ...   \n",
            "2    77.547021            2.112789         49.306593          50.505622  ...   \n",
            "3    80.059949            2.087534         46.886933          58.706376  ...   \n",
            "4    79.130424            2.338877         50.498100          54.046362  ...   \n",
            "5    83.392032            1.985778         46.940665          58.664642  ...   \n",
            "6    84.002567            2.438760         51.046686          58.963780  ...   \n",
            "7    82.956717            2.626950         48.604122          60.839808  ...   \n",
            "8    83.636553            2.267804         43.708401          59.340647  ...   \n",
            "9    82.374088            2.095710         52.087114          62.387251  ...   \n",
            "\n",
            "   water_flow  oilpump_power  oil_tank_temp     gaccx     gaccy     gaccz  \\\n",
            "0   59.085059     300.372921      45.806178  0.711820  0.383773  2.649801   \n",
            "1   59.161939     301.391605      45.825384  0.704667  0.450954  2.669423   \n",
            "2   59.041939     300.973376      45.844730  0.704828  0.443924  2.772009   \n",
            "3   59.037176     300.355630      45.817046  0.726604  0.370457  2.876056   \n",
            "4   59.164154     300.440568      45.817640  0.707785  0.383868  2.849451   \n",
            "5   59.086752     301.350821      45.839556  0.712028  0.378711  2.946856   \n",
            "6   59.000529     299.895054      45.821120  0.717091  0.381456  2.923144   \n",
            "7   58.948630     300.830449      45.865615  0.717805  0.406796  2.978854   \n",
            "8   59.055794     300.094577      45.835181  0.716664  0.414652  3.084229   \n",
            "9   59.086071     300.429722      45.834761  0.725619  0.403084  3.084230   \n",
            "\n",
            "      haccx     haccy     haccz  bearings  \n",
            "0  1.213344  1.409218  2.962484         0  \n",
            "1  1.210674  1.379050  2.938135         0  \n",
            "2  1.210612  1.373490  2.991878         0  \n",
            "3  1.213223  1.443234  3.096158         0  \n",
            "4  1.209216  1.405190  3.059417         0  \n",
            "5  1.214552  1.414601  3.117989         0  \n",
            "6  1.216701  1.421079  3.105229         0  \n",
            "7  1.206193  1.442207  3.134726         0  \n",
            "8  1.227134  1.461809  3.207707         0  \n",
            "9  1.209491  1.390070  3.163670         0  \n",
            "\n",
            "[10 rows x 21 columns]\n",
            "rpm                    0.000112\n",
            "haccx                  0.000724\n",
            "gaccx                  0.001029\n",
            "gaccy                  0.001068\n",
            "motor_power            0.012271\n",
            "haccy                  0.019404\n",
            "oilpump_power          0.019425\n",
            "torque                 0.027546\n",
            "outlet_pressure_bar    0.028056\n",
            "haccz                  0.045117\n",
            "gaccz                  0.045373\n",
            "wpump_outlet_press     0.088477\n",
            "wpump_power            0.101119\n",
            "oil_tank_temp          0.137766\n",
            "water_inlet_temp       0.138962\n",
            "water_outlet_temp      0.141253\n",
            "outlet_temp            0.145536\n",
            "air_flow               0.169417\n",
            "noise_db               0.349152\n",
            "water_flow             0.360265\n",
            "bearings               1.000000\n",
            "Name: bearings, dtype: float64\n",
            "True = 200, False =800\n"
          ]
        }
      ]
    },
    {
      "cell_type": "code",
      "source": [
        "#upscale \n",
        "df_majority = df[df['bearings']==0]\n",
        "df_minority = df[df['bearings']==1]\n",
        " \n",
        "# Upsample minority class\n",
        "df_minority_upsampled = resample(df_minority, \n",
        "                                 replace=True,     # sample with replacement\n",
        "                                 n_samples=800,    # to match majority class\n",
        "                                 random_state=123) # reproducible results\n",
        "\n",
        "df_upsampled = pd.concat([df_majority, df_minority_upsampled])\n",
        " \n",
        "print(df_upsampled['bearings'].value_counts())\n",
        "\n",
        "df = df_upsampled"
      ],
      "metadata": {
        "colab": {
          "base_uri": "https://localhost:8080/"
        },
        "id": "H_QHg7lFbRdj",
        "outputId": "ced17033-4b4c-4681-e534-4f6e385dfdab"
      },
      "execution_count": 57,
      "outputs": [
        {
          "output_type": "stream",
          "name": "stdout",
          "text": [
            "0    800\n",
            "1    800\n",
            "Name: bearings, dtype: int64\n"
          ]
        }
      ]
    },
    {
      "cell_type": "code",
      "source": [
        "from sklearn.model_selection import train_test_split\n",
        "\n",
        "dftrain, dftest = train_test_split(df, test_size=0.2)"
      ],
      "metadata": {
        "id": "JyREGqZahZ1u"
      },
      "execution_count": 58,
      "outputs": []
    },
    {
      "cell_type": "code",
      "source": [
        "Xtrdf = dftrain.drop(columns = ['bearings']) \n",
        "Ytrdf = dftrain['bearings']\n",
        "Xtestdf = dftest.drop(columns = ['bearings']) \n",
        "Ytestdf = dftest['bearings']"
      ],
      "metadata": {
        "id": "epxOX8Hv1HaF"
      },
      "execution_count": 59,
      "outputs": []
    },
    {
      "cell_type": "code",
      "source": [
        "Xtrdf[:10]"
      ],
      "metadata": {
        "colab": {
          "base_uri": "https://localhost:8080/",
          "height": 427
        },
        "id": "5ul4UUgS1cmy",
        "outputId": "ab747ce1-3267-4cdc-8673-554567b86b61"
      },
      "execution_count": 60,
      "outputs": [
        {
          "output_type": "execute_result",
          "data": {
            "text/plain": [
              "      rpm   motor_power     torque  outlet_pressure_bar     air_flow  \\\n",
              "198   516   4675.909203  87.311337                7.308    95.175558   \n",
              "915  2497  16596.851920  64.967891                6.286  1482.540546   \n",
              "969  2496   6399.217361  28.805576                2.201   488.658662   \n",
              "454  1504   5467.532394  35.243903                3.035   904.438504   \n",
              "245  1003   2521.825400  28.281815                1.617   610.825277   \n",
              "43    517   1648.947124  35.285489                1.441   307.153738   \n",
              "471  1488   8877.086304  57.697424                5.359   889.956404   \n",
              "677  2003  17696.189470  88.092317                8.385  1186.621522   \n",
              "247  1005   3152.229100  31.030610                2.240   607.349532   \n",
              "67    491   3539.191167  72.950716                5.364   301.714179   \n",
              "\n",
              "      noise_db  outlet_temp  wpump_outlet_press  water_inlet_temp  \\\n",
              "198  42.076366   108.719208            2.822538         66.497746   \n",
              "915  60.030317   159.579368            3.870596        123.077939   \n",
              "969  61.663355   125.059882            3.139232         87.121407   \n",
              "454  59.322942   105.750087            2.804246         75.564286   \n",
              "245  51.780332    90.845360            1.961843         55.583342   \n",
              "43   45.865455    79.076018            2.092670         45.935891   \n",
              "471  57.900649   119.092692            2.638452         81.202848   \n",
              "677  71.085611   142.649501            3.618494        104.668311   \n",
              "247  52.163885    95.548721            2.153428         58.868789   \n",
              "67   50.064551    97.291327            2.220246         60.017426   \n",
              "\n",
              "     water_outlet_temp  wpump_power  water_flow  oilpump_power  oil_tank_temp  \\\n",
              "198          84.926550   217.721972   58.562061     300.553446      46.214832   \n",
              "915         130.307539   227.707295   45.489101     300.354128      46.616987   \n",
              "969         106.464941   220.297731   58.193287     300.469521      46.271513   \n",
              "454          80.007375   218.220074   58.450431     300.046989      46.162905   \n",
              "245          69.321990   218.868299   58.920597     300.697412      45.945621   \n",
              "43           58.420513   217.377447   59.114801     300.669738      45.863446   \n",
              "471         100.691948   222.075265   58.485536     301.154071      46.277264   \n",
              "677         117.296203   225.892850   57.749366     299.718152      46.497232   \n",
              "247          73.655925   215.228605   58.853368     300.403594      46.003842   \n",
              "67           72.498678   217.172928   58.691599     299.980733      46.062542   \n",
              "\n",
              "        gaccx     gaccy     gaccz     haccx     haccy     haccz  \n",
              "198  0.704706  0.451638  7.888006  1.197129  1.406556  5.553659  \n",
              "915  0.558864  0.330382  5.596425  1.048635  1.314462  4.277474  \n",
              "969  0.559566  0.357581  2.143265  1.052609  1.331293  2.554329  \n",
              "454  0.582687  0.386817  2.738117  1.069461  1.319105  2.854210  \n",
              "245  0.615180  0.309705  2.222286  1.100964  1.351172  2.655840  \n",
              "43   0.712882  0.399976  2.731062  1.204587  1.377269  2.974956  \n",
              "471  0.576214  0.315398  4.653585  1.069202  1.285357  3.814771  \n",
              "677  0.567994  0.350366  8.739534  1.054226  1.370243  5.877374  \n",
              "247  0.616547  0.335825  2.475472  1.106589  1.323806  2.764592  \n",
              "67   0.716128  0.397609  5.451996  1.211358  1.421129  4.365640  "
            ],
            "text/html": [
              "\n",
              "  <div id=\"df-098e5f52-4e49-4b2d-acf9-9000c7b185f1\">\n",
              "    <div class=\"colab-df-container\">\n",
              "      <div>\n",
              "<style scoped>\n",
              "    .dataframe tbody tr th:only-of-type {\n",
              "        vertical-align: middle;\n",
              "    }\n",
              "\n",
              "    .dataframe tbody tr th {\n",
              "        vertical-align: top;\n",
              "    }\n",
              "\n",
              "    .dataframe thead th {\n",
              "        text-align: right;\n",
              "    }\n",
              "</style>\n",
              "<table border=\"1\" class=\"dataframe\">\n",
              "  <thead>\n",
              "    <tr style=\"text-align: right;\">\n",
              "      <th></th>\n",
              "      <th>rpm</th>\n",
              "      <th>motor_power</th>\n",
              "      <th>torque</th>\n",
              "      <th>outlet_pressure_bar</th>\n",
              "      <th>air_flow</th>\n",
              "      <th>noise_db</th>\n",
              "      <th>outlet_temp</th>\n",
              "      <th>wpump_outlet_press</th>\n",
              "      <th>water_inlet_temp</th>\n",
              "      <th>water_outlet_temp</th>\n",
              "      <th>wpump_power</th>\n",
              "      <th>water_flow</th>\n",
              "      <th>oilpump_power</th>\n",
              "      <th>oil_tank_temp</th>\n",
              "      <th>gaccx</th>\n",
              "      <th>gaccy</th>\n",
              "      <th>gaccz</th>\n",
              "      <th>haccx</th>\n",
              "      <th>haccy</th>\n",
              "      <th>haccz</th>\n",
              "    </tr>\n",
              "  </thead>\n",
              "  <tbody>\n",
              "    <tr>\n",
              "      <th>198</th>\n",
              "      <td>516</td>\n",
              "      <td>4675.909203</td>\n",
              "      <td>87.311337</td>\n",
              "      <td>7.308</td>\n",
              "      <td>95.175558</td>\n",
              "      <td>42.076366</td>\n",
              "      <td>108.719208</td>\n",
              "      <td>2.822538</td>\n",
              "      <td>66.497746</td>\n",
              "      <td>84.926550</td>\n",
              "      <td>217.721972</td>\n",
              "      <td>58.562061</td>\n",
              "      <td>300.553446</td>\n",
              "      <td>46.214832</td>\n",
              "      <td>0.704706</td>\n",
              "      <td>0.451638</td>\n",
              "      <td>7.888006</td>\n",
              "      <td>1.197129</td>\n",
              "      <td>1.406556</td>\n",
              "      <td>5.553659</td>\n",
              "    </tr>\n",
              "    <tr>\n",
              "      <th>915</th>\n",
              "      <td>2497</td>\n",
              "      <td>16596.851920</td>\n",
              "      <td>64.967891</td>\n",
              "      <td>6.286</td>\n",
              "      <td>1482.540546</td>\n",
              "      <td>60.030317</td>\n",
              "      <td>159.579368</td>\n",
              "      <td>3.870596</td>\n",
              "      <td>123.077939</td>\n",
              "      <td>130.307539</td>\n",
              "      <td>227.707295</td>\n",
              "      <td>45.489101</td>\n",
              "      <td>300.354128</td>\n",
              "      <td>46.616987</td>\n",
              "      <td>0.558864</td>\n",
              "      <td>0.330382</td>\n",
              "      <td>5.596425</td>\n",
              "      <td>1.048635</td>\n",
              "      <td>1.314462</td>\n",
              "      <td>4.277474</td>\n",
              "    </tr>\n",
              "    <tr>\n",
              "      <th>969</th>\n",
              "      <td>2496</td>\n",
              "      <td>6399.217361</td>\n",
              "      <td>28.805576</td>\n",
              "      <td>2.201</td>\n",
              "      <td>488.658662</td>\n",
              "      <td>61.663355</td>\n",
              "      <td>125.059882</td>\n",
              "      <td>3.139232</td>\n",
              "      <td>87.121407</td>\n",
              "      <td>106.464941</td>\n",
              "      <td>220.297731</td>\n",
              "      <td>58.193287</td>\n",
              "      <td>300.469521</td>\n",
              "      <td>46.271513</td>\n",
              "      <td>0.559566</td>\n",
              "      <td>0.357581</td>\n",
              "      <td>2.143265</td>\n",
              "      <td>1.052609</td>\n",
              "      <td>1.331293</td>\n",
              "      <td>2.554329</td>\n",
              "    </tr>\n",
              "    <tr>\n",
              "      <th>454</th>\n",
              "      <td>1504</td>\n",
              "      <td>5467.532394</td>\n",
              "      <td>35.243903</td>\n",
              "      <td>3.035</td>\n",
              "      <td>904.438504</td>\n",
              "      <td>59.322942</td>\n",
              "      <td>105.750087</td>\n",
              "      <td>2.804246</td>\n",
              "      <td>75.564286</td>\n",
              "      <td>80.007375</td>\n",
              "      <td>218.220074</td>\n",
              "      <td>58.450431</td>\n",
              "      <td>300.046989</td>\n",
              "      <td>46.162905</td>\n",
              "      <td>0.582687</td>\n",
              "      <td>0.386817</td>\n",
              "      <td>2.738117</td>\n",
              "      <td>1.069461</td>\n",
              "      <td>1.319105</td>\n",
              "      <td>2.854210</td>\n",
              "    </tr>\n",
              "    <tr>\n",
              "      <th>245</th>\n",
              "      <td>1003</td>\n",
              "      <td>2521.825400</td>\n",
              "      <td>28.281815</td>\n",
              "      <td>1.617</td>\n",
              "      <td>610.825277</td>\n",
              "      <td>51.780332</td>\n",
              "      <td>90.845360</td>\n",
              "      <td>1.961843</td>\n",
              "      <td>55.583342</td>\n",
              "      <td>69.321990</td>\n",
              "      <td>218.868299</td>\n",
              "      <td>58.920597</td>\n",
              "      <td>300.697412</td>\n",
              "      <td>45.945621</td>\n",
              "      <td>0.615180</td>\n",
              "      <td>0.309705</td>\n",
              "      <td>2.222286</td>\n",
              "      <td>1.100964</td>\n",
              "      <td>1.351172</td>\n",
              "      <td>2.655840</td>\n",
              "    </tr>\n",
              "    <tr>\n",
              "      <th>43</th>\n",
              "      <td>517</td>\n",
              "      <td>1648.947124</td>\n",
              "      <td>35.285489</td>\n",
              "      <td>1.441</td>\n",
              "      <td>307.153738</td>\n",
              "      <td>45.865455</td>\n",
              "      <td>79.076018</td>\n",
              "      <td>2.092670</td>\n",
              "      <td>45.935891</td>\n",
              "      <td>58.420513</td>\n",
              "      <td>217.377447</td>\n",
              "      <td>59.114801</td>\n",
              "      <td>300.669738</td>\n",
              "      <td>45.863446</td>\n",
              "      <td>0.712882</td>\n",
              "      <td>0.399976</td>\n",
              "      <td>2.731062</td>\n",
              "      <td>1.204587</td>\n",
              "      <td>1.377269</td>\n",
              "      <td>2.974956</td>\n",
              "    </tr>\n",
              "    <tr>\n",
              "      <th>471</th>\n",
              "      <td>1488</td>\n",
              "      <td>8877.086304</td>\n",
              "      <td>57.697424</td>\n",
              "      <td>5.359</td>\n",
              "      <td>889.956404</td>\n",
              "      <td>57.900649</td>\n",
              "      <td>119.092692</td>\n",
              "      <td>2.638452</td>\n",
              "      <td>81.202848</td>\n",
              "      <td>100.691948</td>\n",
              "      <td>222.075265</td>\n",
              "      <td>58.485536</td>\n",
              "      <td>301.154071</td>\n",
              "      <td>46.277264</td>\n",
              "      <td>0.576214</td>\n",
              "      <td>0.315398</td>\n",
              "      <td>4.653585</td>\n",
              "      <td>1.069202</td>\n",
              "      <td>1.285357</td>\n",
              "      <td>3.814771</td>\n",
              "    </tr>\n",
              "    <tr>\n",
              "      <th>677</th>\n",
              "      <td>2003</td>\n",
              "      <td>17696.189470</td>\n",
              "      <td>88.092317</td>\n",
              "      <td>8.385</td>\n",
              "      <td>1186.621522</td>\n",
              "      <td>71.085611</td>\n",
              "      <td>142.649501</td>\n",
              "      <td>3.618494</td>\n",
              "      <td>104.668311</td>\n",
              "      <td>117.296203</td>\n",
              "      <td>225.892850</td>\n",
              "      <td>57.749366</td>\n",
              "      <td>299.718152</td>\n",
              "      <td>46.497232</td>\n",
              "      <td>0.567994</td>\n",
              "      <td>0.350366</td>\n",
              "      <td>8.739534</td>\n",
              "      <td>1.054226</td>\n",
              "      <td>1.370243</td>\n",
              "      <td>5.877374</td>\n",
              "    </tr>\n",
              "    <tr>\n",
              "      <th>247</th>\n",
              "      <td>1005</td>\n",
              "      <td>3152.229100</td>\n",
              "      <td>31.030610</td>\n",
              "      <td>2.240</td>\n",
              "      <td>607.349532</td>\n",
              "      <td>52.163885</td>\n",
              "      <td>95.548721</td>\n",
              "      <td>2.153428</td>\n",
              "      <td>58.868789</td>\n",
              "      <td>73.655925</td>\n",
              "      <td>215.228605</td>\n",
              "      <td>58.853368</td>\n",
              "      <td>300.403594</td>\n",
              "      <td>46.003842</td>\n",
              "      <td>0.616547</td>\n",
              "      <td>0.335825</td>\n",
              "      <td>2.475472</td>\n",
              "      <td>1.106589</td>\n",
              "      <td>1.323806</td>\n",
              "      <td>2.764592</td>\n",
              "    </tr>\n",
              "    <tr>\n",
              "      <th>67</th>\n",
              "      <td>491</td>\n",
              "      <td>3539.191167</td>\n",
              "      <td>72.950716</td>\n",
              "      <td>5.364</td>\n",
              "      <td>301.714179</td>\n",
              "      <td>50.064551</td>\n",
              "      <td>97.291327</td>\n",
              "      <td>2.220246</td>\n",
              "      <td>60.017426</td>\n",
              "      <td>72.498678</td>\n",
              "      <td>217.172928</td>\n",
              "      <td>58.691599</td>\n",
              "      <td>299.980733</td>\n",
              "      <td>46.062542</td>\n",
              "      <td>0.716128</td>\n",
              "      <td>0.397609</td>\n",
              "      <td>5.451996</td>\n",
              "      <td>1.211358</td>\n",
              "      <td>1.421129</td>\n",
              "      <td>4.365640</td>\n",
              "    </tr>\n",
              "  </tbody>\n",
              "</table>\n",
              "</div>\n",
              "      <button class=\"colab-df-convert\" onclick=\"convertToInteractive('df-098e5f52-4e49-4b2d-acf9-9000c7b185f1')\"\n",
              "              title=\"Convert this dataframe to an interactive table.\"\n",
              "              style=\"display:none;\">\n",
              "        \n",
              "  <svg xmlns=\"http://www.w3.org/2000/svg\" height=\"24px\"viewBox=\"0 0 24 24\"\n",
              "       width=\"24px\">\n",
              "    <path d=\"M0 0h24v24H0V0z\" fill=\"none\"/>\n",
              "    <path d=\"M18.56 5.44l.94 2.06.94-2.06 2.06-.94-2.06-.94-.94-2.06-.94 2.06-2.06.94zm-11 1L8.5 8.5l.94-2.06 2.06-.94-2.06-.94L8.5 2.5l-.94 2.06-2.06.94zm10 10l.94 2.06.94-2.06 2.06-.94-2.06-.94-.94-2.06-.94 2.06-2.06.94z\"/><path d=\"M17.41 7.96l-1.37-1.37c-.4-.4-.92-.59-1.43-.59-.52 0-1.04.2-1.43.59L10.3 9.45l-7.72 7.72c-.78.78-.78 2.05 0 2.83L4 21.41c.39.39.9.59 1.41.59.51 0 1.02-.2 1.41-.59l7.78-7.78 2.81-2.81c.8-.78.8-2.07 0-2.86zM5.41 20L4 18.59l7.72-7.72 1.47 1.35L5.41 20z\"/>\n",
              "  </svg>\n",
              "      </button>\n",
              "      \n",
              "  <style>\n",
              "    .colab-df-container {\n",
              "      display:flex;\n",
              "      flex-wrap:wrap;\n",
              "      gap: 12px;\n",
              "    }\n",
              "\n",
              "    .colab-df-convert {\n",
              "      background-color: #E8F0FE;\n",
              "      border: none;\n",
              "      border-radius: 50%;\n",
              "      cursor: pointer;\n",
              "      display: none;\n",
              "      fill: #1967D2;\n",
              "      height: 32px;\n",
              "      padding: 0 0 0 0;\n",
              "      width: 32px;\n",
              "    }\n",
              "\n",
              "    .colab-df-convert:hover {\n",
              "      background-color: #E2EBFA;\n",
              "      box-shadow: 0px 1px 2px rgba(60, 64, 67, 0.3), 0px 1px 3px 1px rgba(60, 64, 67, 0.15);\n",
              "      fill: #174EA6;\n",
              "    }\n",
              "\n",
              "    [theme=dark] .colab-df-convert {\n",
              "      background-color: #3B4455;\n",
              "      fill: #D2E3FC;\n",
              "    }\n",
              "\n",
              "    [theme=dark] .colab-df-convert:hover {\n",
              "      background-color: #434B5C;\n",
              "      box-shadow: 0px 1px 3px 1px rgba(0, 0, 0, 0.15);\n",
              "      filter: drop-shadow(0px 1px 2px rgba(0, 0, 0, 0.3));\n",
              "      fill: #FFFFFF;\n",
              "    }\n",
              "  </style>\n",
              "\n",
              "      <script>\n",
              "        const buttonEl =\n",
              "          document.querySelector('#df-098e5f52-4e49-4b2d-acf9-9000c7b185f1 button.colab-df-convert');\n",
              "        buttonEl.style.display =\n",
              "          google.colab.kernel.accessAllowed ? 'block' : 'none';\n",
              "\n",
              "        async function convertToInteractive(key) {\n",
              "          const element = document.querySelector('#df-098e5f52-4e49-4b2d-acf9-9000c7b185f1');\n",
              "          const dataTable =\n",
              "            await google.colab.kernel.invokeFunction('convertToInteractive',\n",
              "                                                     [key], {});\n",
              "          if (!dataTable) return;\n",
              "\n",
              "          const docLinkHtml = 'Like what you see? Visit the ' +\n",
              "            '<a target=\"_blank\" href=https://colab.research.google.com/notebooks/data_table.ipynb>data table notebook</a>'\n",
              "            + ' to learn more about interactive tables.';\n",
              "          element.innerHTML = '';\n",
              "          dataTable['output_type'] = 'display_data';\n",
              "          await google.colab.output.renderOutput(dataTable, element);\n",
              "          const docLink = document.createElement('div');\n",
              "          docLink.innerHTML = docLinkHtml;\n",
              "          element.appendChild(docLink);\n",
              "        }\n",
              "      </script>\n",
              "    </div>\n",
              "  </div>\n",
              "  "
            ]
          },
          "metadata": {},
          "execution_count": 60
        }
      ]
    },
    {
      "cell_type": "code",
      "source": [
        "Ytrdf[:10]"
      ],
      "metadata": {
        "colab": {
          "base_uri": "https://localhost:8080/"
        },
        "id": "qxjmaTraywqc",
        "outputId": "5e2720ab-d17a-4196-8d5c-d61e93274ca0"
      },
      "execution_count": 61,
      "outputs": [
        {
          "output_type": "execute_result",
          "data": {
            "text/plain": [
              "198    0\n",
              "915    0\n",
              "969    0\n",
              "454    1\n",
              "245    1\n",
              "43     1\n",
              "471    1\n",
              "677    1\n",
              "247    1\n",
              "67     1\n",
              "Name: bearings, dtype: int64"
            ]
          },
          "metadata": {},
          "execution_count": 61
        }
      ]
    },
    {
      "cell_type": "code",
      "source": [
        "Xtr = torch.tensor(Xtrdf[Xtrdf.columns].values) #,dtype=torch.float64)\n",
        "Ytr = torch.tensor(Ytrdf.values).reshape(-1,1)\n",
        "Xtest = torch.tensor(Xtestdf[Xtrdf.columns].values) #,dtype=torch.float64)\n",
        "Ytest = torch.tensor(Ytestdf.values).reshape(-1,1)"
      ],
      "metadata": {
        "id": "sTNwJkXs3CFL"
      },
      "execution_count": 62,
      "outputs": []
    },
    {
      "cell_type": "code",
      "source": [
        "# Standard Scalar \n",
        "xmean = Xtr.mean(0,keepdims=True) \n",
        "xstd = Xtr.std(0,keepdims=True)\n",
        "Xtr = (Xtr - xmean) / xstd \n",
        "Xtest = (Xtest - xmean)/ xstd"
      ],
      "metadata": {
        "id": "z0mIqsda3eR6"
      },
      "execution_count": 63,
      "outputs": []
    },
    {
      "cell_type": "code",
      "source": [
        "class Linear:\n",
        "  def __init__(self, fan_in, fan_out, bias=True):\n",
        "    self.weight = torch.randn((fan_in, fan_out), generator=g) / fan_in**0.5\n",
        "    self.bias = torch.zeros(fan_out) if bias else None\n",
        "  \n",
        "  def __call__(self, x):\n",
        "    self.out = x @ self.weight\n",
        "    if self.bias is not None:\n",
        "      self.out += self.bias\n",
        "    return self.out\n",
        "  \n",
        "  def parameters(self):\n",
        "    return [self.weight] + ([] if self.bias is None else [self.bias])\n",
        "\n",
        "\n",
        "class Relu:\n",
        "  def __call__(self, x):\n",
        "    self.out = torch.relu(x)\n",
        "    return self.out\n",
        "  def parameters(self):\n",
        "    return []\n",
        "\n",
        "\n",
        "class Sigmoid:\n",
        "  def __call__(self, x):\n",
        "    self.out = torch.sigmoid(x)\n",
        "    return self.out\n",
        "  def parameters(self):\n",
        "    return []\n",
        "\n",
        "\n",
        "def train(X,Y,n_feature,batch_size=32,max_iteration=10000,verbose=True,plot=False):\n",
        "  stepi = []\n",
        "  lossi = [] \n",
        "  \n",
        "  for i in range(0,max_iteration):\n",
        "    ix = torch.randint(0, X.shape[0], (batch_size,))\n",
        "    Xb, Yb = X[ix], Y[ix] # batch X,Y\n",
        "    \n",
        "    x = Xb \n",
        "    for layer in layers:\n",
        "      x = layer(x)\n",
        "    loss = F.binary_cross_entropy(x, Yb) # loss function\n",
        "  \n",
        "    # backward pass\n",
        "    for layer in layers:\n",
        "      layer.out.retain_grad() # AFTER_DEBUG: would take out retain_graph\n",
        "    for p in parameters:\n",
        "      p.grad = None\n",
        "    loss.backward()\n",
        "  \n",
        "    # update\n",
        "    lr = 0.1 if i < 150000 else 0.01 # step learning rate decay\n",
        "    for p in parameters:\n",
        "      p.data += -lr * p.grad\n",
        "\n",
        "    if plot == True:\n",
        "      stepi.append(i)\n",
        "      lossi.append(loss.item())\n",
        "  \n",
        "    if plot == True: \n",
        "      plt.plot(stepi, lossi)\n",
        "\n",
        "\n",
        "\n",
        "@torch.no_grad()\n",
        "def loss_c(X,Y):\n",
        "  for layer in layers:\n",
        "      X = layer(X)\n",
        "  loss = F.binary_cross_entropy(X,Y)\n",
        "  return loss \n",
        "  "
      ],
      "metadata": {
        "id": "DiRIUpzo3tcN"
      },
      "execution_count": 64,
      "outputs": []
    },
    {
      "cell_type": "code",
      "source": [
        "#initialize parameters \n",
        "\n",
        "n_feature = X.shape[1] # the dimensionality of the character embedding vectors\n",
        "n_hidden1 = 60 # the number of neurons in the hidden layer of the MLP\n",
        "n_hidden2 = 120 \n",
        "g = torch.Generator().manual_seed(2147483647) # for reproducibility\n",
        "\n",
        "# C = torch.randn((vocab_size, n_embd),            generator=g)\n",
        "layers = [\n",
        "  Linear(n_feature, n_hidden1), Relu(),\n",
        "  Linear(n_hidden1, n_hidden2), Relu(),\n",
        "  Linear(n_hidden2, 1), Sigmoid(),\n",
        "]\n",
        "\n",
        "def eval(x):\n",
        "  for layer in layers:\n",
        "    x = layer(x)\n",
        "  return x \n",
        "  \n",
        "parameters = [p for layer in layers for p in layer.parameters()]\n",
        "print(sum(p.nelement() for p in parameters)) # number of parameters in total\n",
        "for p in parameters:\n",
        "  p.requires_grad = True"
      ],
      "metadata": {
        "id": "ZGmyAmcCCgBT",
        "colab": {
          "base_uri": "https://localhost:8080/"
        },
        "outputId": "e3dd97a6-e84e-4b40-ac4d-4c5b23fc42ee"
      },
      "execution_count": 65,
      "outputs": [
        {
          "output_type": "stream",
          "name": "stdout",
          "text": [
            "8701\n"
          ]
        }
      ]
    },
    {
      "cell_type": "code",
      "source": [
        "train(Xtr.float(),Ytr.float(),n_feature,plot=True)"
      ],
      "metadata": {
        "colab": {
          "base_uri": "https://localhost:8080/",
          "height": 430
        },
        "id": "P6tlIRwPKy6B",
        "outputId": "3431af09-ea43-4808-d0f3-831a858f4428"
      },
      "execution_count": 66,
      "outputs": [
        {
          "output_type": "display_data",
          "data": {
            "text/plain": [
              "<Figure size 640x480 with 1 Axes>"
            ],
            "image/png": "[encoded data removed]"
          },
          "metadata": {}
        }
      ]
    },
    {
      "cell_type": "code",
      "source": [
        "print(f\"Test loss={loss_c(Xtest.float(),Ytest.float())}\")\n",
        "print(f\"Train loss={loss_c(Xtr.float(),Ytr.float())}\")"
      ],
      "metadata": {
        "id": "pMVvGGQOis47",
        "outputId": "220c01e0-eba9-47d1-fbf2-c1e57664180c",
        "colab": {
          "base_uri": "https://localhost:8080/"
        }
      },
      "execution_count": 67,
      "outputs": [
        {
          "output_type": "stream",
          "name": "stdout",
          "text": [
            "Test loss=0.0034830670338124037\n",
            "Train loss=0.00037661424721591175\n"
          ]
        }
      ]
    },
    {
      "cell_type": "code",
      "source": [
        "# rpm: 1499.52\n",
        "# motor_power: 6984.88\n",
        "# torque: 49.186\n",
        "# outlet_pressure_bar: 4.06\n",
        "# air_flow: 754.67\n",
        "# noise_db: 53.41\n",
        "# outlet_temp: 118.86\n",
        "# wpump_outlet_press: 2.80\n",
        "# water_inlet_temp: 83.02\n",
        "# water_outlet_temp: 96.64\n",
        "# wpump_power: 222.19\n",
        "# water_flow: 53.71\n",
        "# oilpump_power: 300.48\n",
        "# oil_tank_temp: 46.24\n",
        "# gaccx: 0.60\n",
        "# gaccy: 0.35\n",
        "# gaccz: 3.92\n",
        "# haccx: 1.10\n",
        "# haccy: 1.35\n",
        "# haccz: 3.50\n",
        "x_in = torch.tensor([1499.52, 6984.88, 49.186, 4.06, 754.67, 53.41, 118.86, 2.80, 83.02, 96.64, 222.19, 53.71, 300.48, 46.24,0.60, 0.35, 3.92, 1.10, 1.35, 3.50])\n",
        "x_in = (x_in-xmean)/xstd\n",
        "x_in = x_in.float()\n",
        "for layer in layers:\n",
        "  x_in = layer(x_in)\n",
        "x_in.data"
      ],
      "metadata": {
        "colab": {
          "base_uri": "https://localhost:8080/"
        },
        "id": "EsgVE8JiK82-",
        "outputId": "813b3311-1720-4cdb-cc18-de3723295758"
      },
      "execution_count": 68,
      "outputs": [
        {
          "output_type": "execute_result",
          "data": {
            "text/plain": [
              "tensor([[2.4433e-05]])"
            ]
          },
          "metadata": {},
          "execution_count": 68
        }
      ]
    },
    {
      "cell_type": "code",
      "source": [
        "y_pred = eval(Xtest.float())\n",
        "conf_matrix = confusion_matrix(y_true=torch.round(Ytest).detach().numpy(), y_pred=torch.round(y_pred).detach().numpy())\n",
        "#\n",
        "# Print the confusion matrix using Matplotlib\n",
        "#\n",
        "fig, ax = plt.subplots(figsize=(7.5, 7.5))\n",
        "ax.matshow(conf_matrix, cmap=plt.cm.Blues, alpha=0.3)\n",
        "for i in range(conf_matrix.shape[0]):\n",
        "    for j in range(conf_matrix.shape[1]):\n",
        "        ax.text(x=j, y=i,s=conf_matrix[i, j], va='center', ha='center', size='xx-large')\n",
        " \n",
        "plt.xlabel('Predictions', fontsize=18)\n",
        "plt.ylabel('Actuals', fontsize=18)\n",
        "plt.title('Confusion Matrix', fontsize=18)\n",
        "plt.show()"
      ],
      "metadata": {
        "colab": {
          "base_uri": "https://localhost:8080/",
          "height": 699
        },
        "id": "kZ0berfcNrcw",
        "outputId": "468ecba0-6210-4b3e-d028-f25123617e2d"
      },
      "execution_count": 70,
      "outputs": [
        {
          "output_type": "display_data",
          "data": {
            "text/plain": [
              "<Figure size 750x750 with 1 Axes>"
            ],
            "image/png": "[encoded data removed]"
          },
          "metadata": {}
        }
      ]
    }
  ]
}